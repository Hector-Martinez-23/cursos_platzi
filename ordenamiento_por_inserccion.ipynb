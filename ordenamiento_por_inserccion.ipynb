{
 "cells": [
  {
   "cell_type": "markdown",
   "metadata": {},
   "source": [
    "# Ordenamiento por insercción"
   ]
  },
  {
   "cell_type": "code",
   "execution_count": 1,
   "metadata": {},
   "outputs": [],
   "source": [
    "import random"
   ]
  },
  {
   "cell_type": "code",
   "execution_count": 5,
   "metadata": {},
   "outputs": [],
   "source": [
    "def ordenamiento_por_inserccion(lista):\n",
    "    \n",
    "    for indice in range(1, len(lista)):\n",
    "        valor_actual = lista[indice]\n",
    "        posicion_actual = indice\n",
    "\n",
    "        while posicion_actual > 0 and lista[posicion_actual - 1] > valor_actual:\n",
    "            lista[posicion_actual] = lista[posicion_actual - 1]\n",
    "            posicion_actual -= 1\n",
    "\n",
    "        lista[posicion_actual] = valor_actual\n",
    "    \n",
    "    return lista"
   ]
  },
  {
   "cell_type": "code",
   "execution_count": 6,
   "metadata": {},
   "outputs": [
    {
     "name": "stdout",
     "output_type": "stream",
     "text": [
      "De que tamano sera la lista? 6\n",
      "[36, 80, 55, 15, 24, 59]\n",
      "[15, 24, 36, 55, 59, 80]\n"
     ]
    }
   ],
   "source": [
    "if __name__ == '__main__':\n",
    "    tamano_de_lista = int(input('De que tamano sera la lista? '))\n",
    "    \n",
    "    lista = [random.randint(0,100) for i in range(tamano_de_lista)] \n",
    "    print(lista)\n",
    "    \n",
    "    lista_ordenada = ordenamiento_por_inserccion(lista)\n",
    "    print(lista_ordenada)"
   ]
  },
  {
   "cell_type": "code",
   "execution_count": null,
   "metadata": {},
   "outputs": [],
   "source": []
  }
 ],
 "metadata": {
  "kernelspec": {
   "display_name": "Python 3",
   "language": "python",
   "name": "python3"
  },
  "language_info": {
   "codemirror_mode": {
    "name": "ipython",
    "version": 3
   },
   "file_extension": ".py",
   "mimetype": "text/x-python",
   "name": "python",
   "nbconvert_exporter": "python",
   "pygments_lexer": "ipython3",
   "version": "3.7.6"
  }
 },
 "nbformat": 4,
 "nbformat_minor": 4
}
