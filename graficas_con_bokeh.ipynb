{
 "cells": [
  {
   "cell_type": "code",
   "execution_count": 1,
   "metadata": {},
   "outputs": [],
   "source": [
    "from bokeh.plotting import figure, output_file, show"
   ]
  },
  {
   "cell_type": "code",
   "execution_count": 2,
   "metadata": {},
   "outputs": [
    {
     "name": "stdout",
     "output_type": "stream",
     "text": [
      "Cuantos valores quieres graficar?10\n",
      "Valor y para 01\n",
      "Valor y para 12\n",
      "Valor y para 23\n",
      "Valor y para 34\n",
      "Valor y para 45\n",
      "Valor y para 56\n",
      "Valor y para 68\n",
      "Valor y para 79\n",
      "Valor y para 84\n",
      "Valor y para 95\n"
     ]
    }
   ],
   "source": [
    "if __name__ == '__main__':\n",
    "    output_file('graficado_simple.html')\n",
    "    fig = figure()\n",
    "    \n",
    "    total_vals = int(input('Cuantos valores quieres graficar?'))\n",
    "    x_vals = list(range(total_vals))\n",
    "    y_vals = []\n",
    "    \n",
    "    for x in x_vals:\n",
    "        val = int(input(f'Valor y para {x}'))\n",
    "        y_vals.append(val)\n",
    "        \n",
    "    fig.line(x_vals, y_vals, line_width=2)\n",
    "    show(fig)"
   ]
  },
  {
   "cell_type": "code",
   "execution_count": null,
   "metadata": {},
   "outputs": [],
   "source": []
  }
 ],
 "metadata": {
  "kernelspec": {
   "display_name": "Python 3",
   "language": "python",
   "name": "python3"
  },
  "language_info": {
   "codemirror_mode": {
    "name": "ipython",
    "version": 3
   },
   "file_extension": ".py",
   "mimetype": "text/x-python",
   "name": "python",
   "nbconvert_exporter": "python",
   "pygments_lexer": "ipython3",
   "version": "3.7.6"
  }
 },
 "nbformat": 4,
 "nbformat_minor": 4
}
