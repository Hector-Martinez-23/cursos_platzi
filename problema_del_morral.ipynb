{
 "cells": [
  {
   "cell_type": "code",
   "execution_count": 9,
   "metadata": {},
   "outputs": [],
   "source": [
    "def morral(tamano_morral, pesos, valores, n):\n",
    "    \n",
    "    if n == 0 or tamano_morral == 0:\n",
    "        return 0\n",
    "    \n",
    "    if pesos[n - 1] > tamano_morral:\n",
    "        return morral(tamano_morral, pesos, valores, n-1)\n",
    "    \n",
    "    return max(valores[n - 1] + morral(tamano_morral - pesos[n - 1], pesos, valores, n-1),\n",
    "              morral(tamano_morral, pesos, valores, n - 1))"
   ]
  },
  {
   "cell_type": "code",
   "execution_count": 11,
   "metadata": {},
   "outputs": [
    {
     "name": "stdout",
     "output_type": "stream",
     "text": [
      "220\n"
     ]
    }
   ],
   "source": [
    "if __name__ == '__main__':\n",
    "    valores = [60, 100, 120]\n",
    "    pesos = [10, 20, 30]\n",
    "    tamano_morral = 50\n",
    "    n = len(valores)\n",
    "    \n",
    "    resultado = morral(tamano_morral, pesos, valores, n)\n",
    "    print(resultado)"
   ]
  },
  {
   "cell_type": "code",
   "execution_count": null,
   "metadata": {},
   "outputs": [],
   "source": []
  }
 ],
 "metadata": {
  "kernelspec": {
   "display_name": "Python 3",
   "language": "python",
   "name": "python3"
  },
  "language_info": {
   "codemirror_mode": {
    "name": "ipython",
    "version": 3
   },
   "file_extension": ".py",
   "mimetype": "text/x-python",
   "name": "python",
   "nbconvert_exporter": "python",
   "pygments_lexer": "ipython3",
   "version": "3.7.6"
  }
 },
 "nbformat": 4,
 "nbformat_minor": 4
}
