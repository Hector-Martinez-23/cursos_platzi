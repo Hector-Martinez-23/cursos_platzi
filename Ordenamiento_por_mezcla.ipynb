{
 "cells": [
  {
   "cell_type": "markdown",
   "metadata": {},
   "source": [
    "# Ordenamiento por mezcla"
   ]
  },
  {
   "cell_type": "code",
   "execution_count": 1,
   "metadata": {},
   "outputs": [],
   "source": [
    "import random"
   ]
  },
  {
   "cell_type": "code",
   "execution_count": 6,
   "metadata": {},
   "outputs": [],
   "source": [
    "def ordenamiento_por_mezcla(lista):\n",
    "    if len(lista) > 1:\n",
    "        medio = len(lista) // 2\n",
    "        izquierda = lista[:medio]\n",
    "        derecha = lista[medio:]\n",
    "        print(izquierda, '*' * 5, derecha)\n",
    "        \n",
    "        # llamada recursiva en cada mitad\n",
    "        ordenamiento_por_mezcla(izquierda)\n",
    "        ordenamiento_por_mezcla(derecha)\n",
    "        \n",
    "        # Iteradores para recorrer las dos sublistas\n",
    "        i = 0\n",
    "        j = 0\n",
    "        # Iterador para la lista principal\n",
    "        k = 0\n",
    "        \n",
    "        while i < len(izquierda) and j < len(derecha):\n",
    "            if izquierda[i] < derecha[j]:\n",
    "                lista[k] = izquierda[i]\n",
    "                i += 1\n",
    "            else:\n",
    "                lista[k] = derecha[j]\n",
    "                j += 1\n",
    "                \n",
    "            k += 1\n",
    "            \n",
    "        while i < len(izquierda):\n",
    "            lista[k] = izquierda[i]\n",
    "            i += 1\n",
    "            k += 1\n",
    "            \n",
    "        while j < len(derecha):\n",
    "            lista[k] = derecha[j]\n",
    "            j += 1\n",
    "            k += 1\n",
    "            \n",
    "        print(f'izquierda {izquierda}, derecha {derecha}')\n",
    "        print(lista)\n",
    "        print('-' * 50)\n",
    "        \n",
    "    return lista"
   ]
  },
  {
   "cell_type": "code",
   "execution_count": 7,
   "metadata": {},
   "outputs": [
    {
     "name": "stdout",
     "output_type": "stream",
     "text": [
      "De que tamano sera la lista? 8\n",
      "[82, 100, 41, 39, 16, 60, 0, 69]\n",
      "--\n",
      "[82, 100, 41, 39] ***** [16, 60, 0, 69]\n",
      "[82, 100] ***** [41, 39]\n",
      "[82] ***** [100]\n",
      "izquierda [82], derecha [100]\n",
      "[82, 100]\n",
      "--------------------------------------------------\n",
      "[41] ***** [39]\n",
      "izquierda [41], derecha [39]\n",
      "[39, 41]\n",
      "--------------------------------------------------\n",
      "izquierda [82, 100], derecha [39, 41]\n",
      "[39, 41, 82, 100]\n",
      "--------------------------------------------------\n",
      "[16, 60] ***** [0, 69]\n",
      "[16] ***** [60]\n",
      "izquierda [16], derecha [60]\n",
      "[16, 60]\n",
      "--------------------------------------------------\n",
      "[0] ***** [69]\n",
      "izquierda [0], derecha [69]\n",
      "[0, 69]\n",
      "--------------------------------------------------\n",
      "izquierda [16, 60], derecha [0, 69]\n",
      "[0, 16, 60, 69]\n",
      "--------------------------------------------------\n",
      "izquierda [39, 41, 82, 100], derecha [0, 16, 60, 69]\n",
      "[0, 16, 39, 41, 60, 69, 82, 100]\n",
      "--------------------------------------------------\n",
      "[0, 16, 39, 41, 60, 69, 82, 100]\n"
     ]
    }
   ],
   "source": [
    "if __name__ == '__main__':\n",
    "    tamano_de_lista = int(input('De que tamano sera la lista? '))\n",
    "    \n",
    "    lista = [random.randint(0,100) for i in range(tamano_de_lista)] \n",
    "    print(lista)\n",
    "    print('-' * 2)\n",
    "    \n",
    "    lista_ordenada = ordenamiento_por_mezcla(lista)\n",
    "    print(lista_ordenada)"
   ]
  },
  {
   "cell_type": "code",
   "execution_count": null,
   "metadata": {},
   "outputs": [],
   "source": []
  }
 ],
 "metadata": {
  "kernelspec": {
   "display_name": "Python 3",
   "language": "python",
   "name": "python3"
  },
  "language_info": {
   "codemirror_mode": {
    "name": "ipython",
    "version": 3
   },
   "file_extension": ".py",
   "mimetype": "text/x-python",
   "name": "python",
   "nbconvert_exporter": "python",
   "pygments_lexer": "ipython3",
   "version": "3.7.6"
  }
 },
 "nbformat": 4,
 "nbformat_minor": 4
}
