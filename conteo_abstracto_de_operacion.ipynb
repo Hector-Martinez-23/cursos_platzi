{
 "cells": [
  {
   "cell_type": "code",
   "execution_count": 1,
   "metadata": {},
   "outputs": [],
   "source": [
    "# Contaremos el número de operaciones que haremos para hacer aproximaciones\n",
    "def f(x):\n",
    "    \n",
    "    respuesta = 0 # Con esta empieza la cuenta con 1 operación\n",
    "    \n",
    "    for i in range(1000): # Aquí haremos 1000 operaciones\n",
    "        respuesta += 1\n",
    "        \n",
    "    for i in range(x): # En este paso haremos x operaciones\n",
    "        respuesta += 1\n",
    "        \n",
    "    for i in range(x): # Con estos for anidados haremos 2x^2 operciones\n",
    "        for j in range(x):\n",
    "            respuesta += 1\n",
    "            respuesta += 1\n",
    "            \n",
    "    return respuesta"
   ]
  },
  {
   "cell_type": "code",
   "execution_count": null,
   "metadata": {},
   "outputs": [],
   "source": []
  }
 ],
 "metadata": {
  "kernelspec": {
   "display_name": "Python 3",
   "language": "python",
   "name": "python3"
  },
  "language_info": {
   "codemirror_mode": {
    "name": "ipython",
    "version": 3
   },
   "file_extension": ".py",
   "mimetype": "text/x-python",
   "name": "python",
   "nbconvert_exporter": "python",
   "pygments_lexer": "ipython3",
   "version": "3.7.6"
  }
 },
 "nbformat": 4,
 "nbformat_minor": 4
}
