{
 "cells": [
  {
   "cell_type": "code",
   "execution_count": 9,
   "metadata": {},
   "outputs": [],
   "source": [
    "class Persona:\n",
    "    \n",
    "    def __init__(self, nombre):\n",
    "        self.nombre = nombre\n",
    "        \n",
    "    def avanza(self):\n",
    "        print('Ando caminando')"
   ]
  },
  {
   "cell_type": "code",
   "execution_count": 10,
   "metadata": {},
   "outputs": [],
   "source": [
    "# Definimos una nueva clase \"Ciclista\" que extiende la clase Persona\n",
    "class Ciclista(Persona):\n",
    "    \n",
    "    def __init__(self, nombre):\n",
    "        super().__init__(nombre) #referencia a la superclase, a la cual le enviamos nombre\n",
    "        \n",
    "    def avanza(self): #Mismo método de la superclase con mismos parámetros\n",
    "        print('Ando moviendome en mi bicicleta')"
   ]
  },
  {
   "cell_type": "code",
   "execution_count": 11,
   "metadata": {},
   "outputs": [],
   "source": [
    "def main():\n",
    "    persona = Persona('David')\n",
    "    persona.avanza()\n",
    "    \n",
    "    ciclista = Ciclista('Daniel')\n",
    "    ciclista.avanza()"
   ]
  },
  {
   "cell_type": "code",
   "execution_count": 12,
   "metadata": {},
   "outputs": [
    {
     "name": "stdout",
     "output_type": "stream",
     "text": [
      "Ando caminando\n",
      "Ando moviendome en mi bicicleta\n"
     ]
    }
   ],
   "source": [
    "if __name__=='__main__':\n",
    "    main()"
   ]
  },
  {
   "cell_type": "code",
   "execution_count": 1,
   "metadata": {},
   "outputs": [
    {
     "name": "stdout",
     "output_type": "stream",
     "text": [
      "Requirement already satisfied: bokeh in c:\\users\\lenovo\\anaconda3\\lib\\site-packages (1.4.0)\n",
      "Requirement already satisfied: six>=1.5.2 in c:\\users\\lenovo\\anaconda3\\lib\\site-packages (from bokeh) (1.14.0)\n",
      "Requirement already satisfied: numpy>=1.7.1 in c:\\users\\lenovo\\anaconda3\\lib\\site-packages (from bokeh) (1.18.1)\n",
      "Requirement already satisfied: pillow>=4.0 in c:\\users\\lenovo\\anaconda3\\lib\\site-packages (from bokeh) (7.0.0)\n",
      "Requirement already satisfied: packaging>=16.8 in c:\\users\\lenovo\\anaconda3\\lib\\site-packages (from bokeh) (20.1)\n",
      "Requirement already satisfied: tornado>=4.3 in c:\\users\\lenovo\\anaconda3\\lib\\site-packages (from bokeh) (6.0.3)\n",
      "Requirement already satisfied: Jinja2>=2.7 in c:\\users\\lenovo\\anaconda3\\lib\\site-packages (from bokeh) (2.11.1)\n",
      "Requirement already satisfied: PyYAML>=3.10 in c:\\users\\lenovo\\anaconda3\\lib\\site-packages (from bokeh) (5.3)\n",
      "Requirement already satisfied: python-dateutil>=2.1 in c:\\users\\lenovo\\anaconda3\\lib\\site-packages (from bokeh) (2.8.1)\n",
      "Requirement already satisfied: pyparsing>=2.0.2 in c:\\users\\lenovo\\anaconda3\\lib\\site-packages (from packaging>=16.8->bokeh) (2.4.6)\n",
      "Requirement already satisfied: MarkupSafe>=0.23 in c:\\users\\lenovo\\anaconda3\\lib\\site-packages (from Jinja2>=2.7->bokeh) (1.1.1)\n",
      "Note: you may need to restart the kernel to use updated packages.\n"
     ]
    }
   ],
   "source": [
    "pip install bokeh"
   ]
  },
  {
   "cell_type": "code",
   "execution_count": null,
   "metadata": {},
   "outputs": [],
   "source": []
  }
 ],
 "metadata": {
  "kernelspec": {
   "display_name": "Python 3",
   "language": "python",
   "name": "python3"
  },
  "language_info": {
   "codemirror_mode": {
    "name": "ipython",
    "version": 3
   },
   "file_extension": ".py",
   "mimetype": "text/x-python",
   "name": "python",
   "nbconvert_exporter": "python",
   "pygments_lexer": "ipython3",
   "version": "3.7.6"
  }
 },
 "nbformat": 4,
 "nbformat_minor": 4
}
