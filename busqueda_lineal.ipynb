{
 "cells": [
  {
   "cell_type": "markdown",
   "metadata": {},
   "source": [
    "# Algoritmo de búsqueda lineal "
   ]
  },
  {
   "cell_type": "code",
   "execution_count": 1,
   "metadata": {},
   "outputs": [],
   "source": [
    "## La búsqueda lineal es un algoritmo muy sencillo. Consta en buscar si un elemento se encuentra dentro de una lista, array o un sistema ordenado o no ordenado para poder determinar si el elemento se encuentra en el o forma parte de el.\n",
    "\n",
    "#¿Cuál es el peor caso del siguiente código? Si nos fijamos existe un for loop que crece según el tamaño de la lista, por lo cual nuestro Big O es O(n)"
   ]
  },
  {
   "cell_type": "code",
   "execution_count": 2,
   "metadata": {},
   "outputs": [],
   "source": [
    "import random"
   ]
  },
  {
   "cell_type": "code",
   "execution_count": 8,
   "metadata": {},
   "outputs": [],
   "source": [
    "def busqueda_lineal(lista, objetivo):\n",
    "    match = False\n",
    "    \n",
    "    for elemento in lista:\n",
    "        if elemento == objetivo:\n",
    "            match = True\n",
    "            break\n",
    "            \n",
    "    return match"
   ]
  },
  {
   "cell_type": "code",
   "execution_count": 9,
   "metadata": {},
   "outputs": [
    {
     "name": "stdout",
     "output_type": "stream",
     "text": [
      "De que tamano sera la lista? 50\n",
      "Que numero quieres encontrar? 14\n",
      "[13, 46, 79, 60, 2, 18, 92, 41, 57, 24, 40, 89, 63, 26, 91, 28, 25, 11, 34, 14, 52, 85, 6, 94, 37, 56, 84, 19, 76, 91, 61, 13, 1, 41, 11, 43, 32, 23, 64, 38, 31, 4, 96, 24, 30, 23, 89, 14, 6, 75]\n",
      "El elemento 14 esta en la lista\n"
     ]
    }
   ],
   "source": [
    "if __name__ == '__main__':\n",
    "    tamano_de_lista = int(input('De que tamano sera la lista? '))\n",
    "    objetivo = int(input('Que numero quieres encontrar? '))\n",
    "    \n",
    "    lista = [random.randint(0,100) for i in range(tamano_de_lista)]\n",
    "    \n",
    "    encontrado = busqueda_lineal(lista, objetivo)\n",
    "    print(lista)\n",
    "    print(f'El elemento {objetivo} {\"esta\" if encontrado else \"no esta\"} en la lista')"
   ]
  },
  {
   "cell_type": "code",
   "execution_count": null,
   "metadata": {},
   "outputs": [],
   "source": []
  }
 ],
 "metadata": {
  "kernelspec": {
   "display_name": "Python 3",
   "language": "python",
   "name": "python3"
  },
  "language_info": {
   "codemirror_mode": {
    "name": "ipython",
    "version": 3
   },
   "file_extension": ".py",
   "mimetype": "text/x-python",
   "name": "python",
   "nbconvert_exporter": "python",
   "pygments_lexer": "ipython3",
   "version": "3.7.6"
  }
 },
 "nbformat": 4,
 "nbformat_minor": 4
}
