{
 "cells": [
  {
   "cell_type": "code",
   "execution_count": 4,
   "metadata": {},
   "outputs": [],
   "source": [
    "# Creación de clase automovil\n",
    "\n",
    "class Automovil:\n",
    "    \n",
    "    def __init__(self, modelo, marca, color):\n",
    "        self.modelo = modelo\n",
    "        self.marca = marca\n",
    "        self.color = color\n",
    "        self._estado = 'en_reposo'\n",
    "        self._motor = Motor(cilindros=4)\n",
    "        \n",
    "    def acelerar(self, tipo='despacio'):\n",
    "        if tipo == 'rapida':\n",
    "            self._motor.inyecta_gasolina(10)\n",
    "        else:\n",
    "            self._motor.inyecta_gasolina(3)\n",
    "            \n",
    "        self._estado = 'en_movimiento'"
   ]
  },
  {
   "cell_type": "code",
   "execution_count": 5,
   "metadata": {},
   "outputs": [],
   "source": [
    "# Creación clase motor\n",
    "\n",
    "class Motor:\n",
    "    \n",
    "    def __init__(self, cilindros, tipo='gasolina'):\n",
    "        self.cilindros = cilindros\n",
    "        self.tipo = tipo\n",
    "        self._temperatura = 0\n",
    "        \n",
    "    def inyecta_gasolina(self, cantidad):\n",
    "        pass"
   ]
  },
  {
   "cell_type": "code",
   "execution_count": null,
   "metadata": {},
   "outputs": [],
   "source": []
  }
 ],
 "metadata": {
  "kernelspec": {
   "display_name": "Python 3",
   "language": "python",
   "name": "python3"
  },
  "language_info": {
   "codemirror_mode": {
    "name": "ipython",
    "version": 3
   },
   "file_extension": ".py",
   "mimetype": "text/x-python",
   "name": "python",
   "nbconvert_exporter": "python",
   "pygments_lexer": "ipython3",
   "version": "3.7.6"
  }
 },
 "nbformat": 4,
 "nbformat_minor": 4
}
