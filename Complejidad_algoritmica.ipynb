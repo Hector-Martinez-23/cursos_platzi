{
 "cells": [
  {
   "cell_type": "code",
   "execution_count": 1,
   "metadata": {},
   "outputs": [],
   "source": [
    "# Mediremos tiempo de trabajo\n",
    "import time"
   ]
  },
  {
   "cell_type": "code",
   "execution_count": 2,
   "metadata": {},
   "outputs": [],
   "source": [
    "def factorial(n):\n",
    "    respuesta = 1\n",
    "    \n",
    "    while n>1:\n",
    "        respuesta *= n\n",
    "        n -= 1\n",
    "        \n",
    "    return respuesta"
   ]
  },
  {
   "cell_type": "code",
   "execution_count": 3,
   "metadata": {},
   "outputs": [],
   "source": [
    "def factorial_r(n):\n",
    "    if n == 1:\n",
    "        return 1\n",
    "    \n",
    "    return n * factorial(n-1)"
   ]
  },
  {
   "cell_type": "code",
   "execution_count": 8,
   "metadata": {},
   "outputs": [
    {
     "name": "stdout",
     "output_type": "stream",
     "text": [
      "18.344036102294922\n",
      "16.470974445343018\n"
     ]
    }
   ],
   "source": [
    "if __name__=='__main__':\n",
    "    n = 200000\n",
    "    \n",
    "    comienzo = time.time()\n",
    "    factorial(n)\n",
    "    final = time.time()\n",
    "    print(final - comienzo)\n",
    "    \n",
    "    comienzo = time.time()\n",
    "    factorial_r(n)\n",
    "    final = time.time()\n",
    "    print(final-comienzo)"
   ]
  },
  {
   "cell_type": "code",
   "execution_count": null,
   "metadata": {},
   "outputs": [],
   "source": [
    "# Vemos la diferencia de tiempos entre cada método, sabemos que est cambia en cada computadora\n",
    "#  Parece ser que el método recursivo es más rápido, pero no es así siempre"
   ]
  }
 ],
 "metadata": {
  "kernelspec": {
   "display_name": "Python 3",
   "language": "python",
   "name": "python3"
  },
  "language_info": {
   "codemirror_mode": {
    "name": "ipython",
    "version": 3
   },
   "file_extension": ".py",
   "mimetype": "text/x-python",
   "name": "python",
   "nbconvert_exporter": "python",
   "pygments_lexer": "ipython3",
   "version": "3.7.6"
  }
 },
 "nbformat": 4,
 "nbformat_minor": 4
}
