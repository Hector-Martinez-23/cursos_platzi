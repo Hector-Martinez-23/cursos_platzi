{
 "cells": [
  {
   "cell_type": "markdown",
   "metadata": {},
   "source": [
    "# Búsqueda binaria"
   ]
  },
  {
   "cell_type": "code",
   "execution_count": 11,
   "metadata": {},
   "outputs": [],
   "source": [
    "import random"
   ]
  },
  {
   "cell_type": "code",
   "execution_count": 12,
   "metadata": {},
   "outputs": [],
   "source": [
    "def busqueda_binaria(lista, comienzo, final, objetivo):\n",
    "    print(f'buscando {objetivo} entre {lista[comienzo]} y {lista[final - 1]}')\n",
    "    \n",
    "    if comienzo > final:\n",
    "        return False\n",
    "    \n",
    "    medio = (comienzo + final) // 2\n",
    "    \n",
    "    if lista[medio] == objetivo:\n",
    "        return True\n",
    "    elif lista[medio] < objetivo:\n",
    "        return busqueda_binaria(lista, medio + 1, final, objetivo)\n",
    "    else:\n",
    "        return busqueda_binaria(lista, comienzo, medio-1, objetivo)"
   ]
  },
  {
   "cell_type": "code",
   "execution_count": 13,
   "metadata": {},
   "outputs": [
    {
     "name": "stdout",
     "output_type": "stream",
     "text": [
      "De que tamano sera la lista? 100\n",
      "Qué numero quieres encontrar? 50\n",
      "buscando 50 entre 0 y 99\n",
      "buscando 50 entre 0 y 53\n",
      "buscando 50 entre 24 y 53\n",
      "buscando 50 entre 44 y 53\n",
      "buscando 50 entre 49 y 53\n",
      "buscando 50 entre 52 y 53\n",
      "buscando 50 entre 52 y 49\n",
      "buscando 50 entre 52 y 49\n",
      "[0, 1, 2, 5, 5, 5, 6, 6, 8, 10, 10, 11, 11, 12, 13, 13, 14, 15, 15, 17, 18, 20, 20, 23, 24, 24, 25, 27, 29, 31, 35, 36, 38, 39, 41, 43, 43, 43, 44, 44, 45, 46, 47, 48, 49, 49, 49, 52, 53, 54, 55, 55, 56, 56, 57, 57, 58, 58, 61, 61, 62, 62, 65, 65, 67, 67, 68, 69, 70, 71, 73, 74, 75, 78, 78, 79, 80, 80, 80, 81, 81, 82, 83, 84, 85, 86, 89, 89, 89, 94, 94, 94, 95, 96, 97, 97, 98, 98, 99, 99]\n",
      "El elemento 50 no esta en la lista\n"
     ]
    }
   ],
   "source": [
    "if __name__ == '__main__':\n",
    "    tamano_de_lista = int(input('De que tamano sera la lista? '))\n",
    "    objetivo = int(input('Qué numero quieres encontrar? '))\n",
    "    \n",
    "    lista = sorted([random.randint(0,100) for i in range(tamano_de_lista)]) \n",
    "    \n",
    "    encontrado = busqueda_binaria(lista, 0, len(lista), objetivo)\n",
    "    print(lista)\n",
    "    print(f'El elemento {objetivo} {\"esta\" if encontrado else \"no esta\"} en la lista')"
   ]
  },
  {
   "cell_type": "code",
   "execution_count": null,
   "metadata": {},
   "outputs": [],
   "source": []
  }
 ],
 "metadata": {
  "kernelspec": {
   "display_name": "Python 3",
   "language": "python",
   "name": "python3"
  },
  "language_info": {
   "codemirror_mode": {
    "name": "ipython",
    "version": 3
   },
   "file_extension": ".py",
   "mimetype": "text/x-python",
   "name": "python",
   "nbconvert_exporter": "python",
   "pygments_lexer": "ipython3",
   "version": "3.7.6"
  }
 },
 "nbformat": 4,
 "nbformat_minor": 4
}
