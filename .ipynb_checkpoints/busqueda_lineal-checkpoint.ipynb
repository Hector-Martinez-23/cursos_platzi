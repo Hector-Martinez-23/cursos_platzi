{
 "cells": [
  {
   "cell_type": "code",
   "execution_count": 3,
   "metadata": {},
   "outputs": [],
   "source": [
    "import random"
   ]
  },
  {
   "cell_type": "code",
   "execution_count": 4,
   "metadata": {},
   "outputs": [],
   "source": [
    "def busqueda_lineal(lista, objetivo):\n",
    "    match = False\n",
    "    \n",
    "    for elemento in lista:\n",
    "        if elemento ==objetivo:\n",
    "            match = true\n",
    "            break\n",
    "            \n",
    "    return match"
   ]
  },
  {
   "cell_type": "code",
   "execution_count": 7,
   "metadata": {},
   "outputs": [
    {
     "name": "stdout",
     "output_type": "stream",
     "text": [
      "De que tamano sera la lista? 10\n",
      "Que numero quieres encontrar? 20\n",
      "[13, 83, 97, 47, 9, 75, 94, 26, 68, 70]\n",
      "El elemento 20 no estaen la lista\n"
     ]
    }
   ],
   "source": [
    "if __name__ == '__main__':\n",
    "    tamano_de_lista = int(input('De que tamano sera la lista? '))\n",
    "    objetivo = int(input('Que numero quieres encontrar? '))\n",
    "    \n",
    "    lista = [random.randint(0,100) for i in range(tamano_de_lista)]\n",
    "    \n",
    "    encontrado = busqueda_lineal(lista, objetivo)\n",
    "    print(lista)\n",
    "    print(f'El elemento {objetivo} {\"esta\" if encontrado else \"no esta\"} en la lista')"
   ]
  },
  {
   "cell_type": "code",
   "execution_count": null,
   "metadata": {},
   "outputs": [],
   "source": []
  }
 ],
 "metadata": {
  "kernelspec": {
   "display_name": "Python 3",
   "language": "python",
   "name": "python3"
  },
  "language_info": {
   "codemirror_mode": {
    "name": "ipython",
    "version": 3
   },
   "file_extension": ".py",
   "mimetype": "text/x-python",
   "name": "python",
   "nbconvert_exporter": "python",
   "pygments_lexer": "ipython3",
   "version": "3.7.6"
  }
 },
 "nbformat": 4,
 "nbformat_minor": 4
}
