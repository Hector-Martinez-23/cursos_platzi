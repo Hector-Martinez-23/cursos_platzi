{
 "cells": [
  {
   "cell_type": "code",
   "execution_count": 12,
   "metadata": {},
   "outputs": [],
   "source": [
    "class CasillaDeVotacion:\n",
    "    def __init__(self, identificador, pais):\n",
    "        self._identificador = identificador\n",
    "        self._pais = pais\n",
    "        self._region = None\n",
    "        \n",
    "    @property\n",
    "    def region(self):\n",
    "        return self._region\n",
    "    \n",
    "    @region.setter\n",
    "    def region(self, region):\n",
    "        if region in self._pais:\n",
    "            self._region = region\n",
    "        else:\n",
    "            raise ValueError(f'La region {region} no es valida en {self._pais}')"
   ]
  },
  {
   "cell_type": "code",
   "execution_count": 13,
   "metadata": {},
   "outputs": [],
   "source": [
    "casilla = CasillaDeVotacion(123, ['Ciudad de Mexico', 'Morelos'])\n",
    "casilla.region"
   ]
  },
  {
   "cell_type": "code",
   "execution_count": 14,
   "metadata": {},
   "outputs": [],
   "source": [
    "casilla.region = 'Ciudad de Mexico'"
   ]
  },
  {
   "cell_type": "code",
   "execution_count": 15,
   "metadata": {},
   "outputs": [
    {
     "data": {
      "text/plain": [
       "'Ciudad de Mexico'"
      ]
     },
     "execution_count": 15,
     "metadata": {},
     "output_type": "execute_result"
    }
   ],
   "source": [
    "casilla.region"
   ]
  },
  {
   "cell_type": "code",
   "execution_count": null,
   "metadata": {},
   "outputs": [],
   "source": []
  }
 ],
 "metadata": {
  "kernelspec": {
   "display_name": "Python 3",
   "language": "python",
   "name": "python3"
  },
  "language_info": {
   "codemirror_mode": {
    "name": "ipython",
    "version": 3
   },
   "file_extension": ".py",
   "mimetype": "text/x-python",
   "name": "python",
   "nbconvert_exporter": "python",
   "pygments_lexer": "ipython3",
   "version": "3.7.6"
  }
 },
 "nbformat": 4,
 "nbformat_minor": 4
}
