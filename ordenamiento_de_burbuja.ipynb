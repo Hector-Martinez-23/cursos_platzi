{
 "cells": [
  {
   "cell_type": "markdown",
   "metadata": {},
   "source": [
    "# Ordenamiento de burbuja"
   ]
  },
  {
   "cell_type": "code",
   "execution_count": 1,
   "metadata": {},
   "outputs": [],
   "source": [
    "import random"
   ]
  },
  {
   "cell_type": "code",
   "execution_count": 4,
   "metadata": {},
   "outputs": [],
   "source": [
    "def ordenamiento_de_burbuja(lista):\n",
    "    n = len(lista)\n",
    "    \n",
    "    for i in range(n):\n",
    "        for j in range(0, n - i -1):\n",
    "            \n",
    "            if lista[j] > lista[j + 1]:\n",
    "                lista[j], lista[j + 1] = lista[j + 1], lista[j]\n",
    "                \n",
    "    return lista"
   ]
  },
  {
   "cell_type": "code",
   "execution_count": 5,
   "metadata": {},
   "outputs": [
    {
     "name": "stdout",
     "output_type": "stream",
     "text": [
      "De que tamano sera la lista? 100\n",
      "[71, 60, 71, 100, 30, 93, 84, 52, 9, 33, 64, 77, 36, 69, 34, 38, 79, 73, 96, 61, 97, 93, 11, 82, 86, 12, 31, 29, 100, 26, 8, 28, 59, 16, 75, 95, 59, 29, 90, 34, 41, 28, 3, 42, 100, 83, 83, 19, 54, 100, 15, 59, 73, 84, 28, 32, 92, 23, 64, 93, 98, 24, 20, 27, 20, 21, 42, 74, 63, 87, 44, 82, 66, 97, 11, 23, 41, 56, 57, 47, 100, 86, 40, 87, 20, 42, 63, 40, 74, 60, 88, 1, 12, 37, 60, 52, 24, 72, 90, 96]\n",
      "[1, 3, 8, 9, 11, 11, 12, 12, 15, 16, 19, 20, 20, 20, 21, 23, 23, 24, 24, 26, 27, 28, 28, 28, 29, 29, 30, 31, 32, 33, 34, 34, 36, 37, 38, 40, 40, 41, 41, 42, 42, 42, 44, 47, 52, 52, 54, 56, 57, 59, 59, 59, 60, 60, 60, 61, 63, 63, 64, 64, 66, 69, 71, 71, 72, 73, 73, 74, 74, 75, 77, 79, 82, 82, 83, 83, 84, 84, 86, 86, 87, 87, 88, 90, 90, 92, 93, 93, 93, 95, 96, 96, 97, 97, 98, 100, 100, 100, 100, 100]\n"
     ]
    }
   ],
   "source": [
    "if __name__ == '__main__':\n",
    "    tamano_de_lista = int(input('De que tamano sera la lista? '))\n",
    "    \n",
    "    lista = [random.randint(0,100) for i in range(tamano_de_lista)] \n",
    "    print(lista)\n",
    "    \n",
    "    lista_ordenada = ordenamiento_de_burbuja(lista)\n",
    "    print(lista_ordenada)"
   ]
  },
  {
   "cell_type": "code",
   "execution_count": null,
   "metadata": {},
   "outputs": [],
   "source": []
  }
 ],
 "metadata": {
  "kernelspec": {
   "display_name": "Python 3",
   "language": "python",
   "name": "python3"
  },
  "language_info": {
   "codemirror_mode": {
    "name": "ipython",
    "version": 3
   },
   "file_extension": ".py",
   "mimetype": "text/x-python",
   "name": "python",
   "nbconvert_exporter": "python",
   "pygments_lexer": "ipython3",
   "version": "3.7.6"
  }
 },
 "nbformat": 4,
 "nbformat_minor": 4
}
